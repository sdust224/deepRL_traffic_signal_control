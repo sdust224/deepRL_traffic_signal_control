{
 "cells": [
  {
   "cell_type": "code",
   "execution_count": 1,
   "metadata": {
    "pycharm": {
     "name": "#%%\n"
    }
   },
   "outputs": [],
   "source": [
    "%matplotlib inline \n",
    "import matplotlib.pyplot as plt\n",
    "import matplotlib.ticker as mtick\n",
    "import seaborn as sns\n",
    "sns.set_color_codes()\n",
    "import pandas as pd\n",
    "import numpy as np\n",
    "import os\n",
    "import xml.etree.cElementTree as ET\n",
    "from matplotlib.ticker import FuncFormatter"
   ]
  },
  {
   "cell_type": "markdown",
   "metadata": {
    "pycharm": {
     "name": "#%% md\n"
    }
   },
   "source": [
    "## plot training curves in small grid env"
   ]
  },
  {
   "cell_type": "code",
   "execution_count": 3,
   "metadata": {
    "pycharm": {
     "name": "#%%\n"
    }
   },
   "outputs": [],
   "source": [
    "base_dir = '/home/hadoop/Downloads/deeprl_signal_control-master'\n",
    "plot_dir = base_dir + '/plots'\n",
    "if not os.path.exists(plot_dir):\n",
    "    os.mkdir(plot_dir)\n",
    "color_cycle = sns.color_palette()\n",
    "COLORS = {'ma2c': color_cycle[0], 'ia2c': color_cycle[1], 'iqll': color_cycle[2], \n",
    "          'iqld': color_cycle[3], 'greedy':color_cycle[4], 'mqld': color_cycle[5]}\n",
    "TRAIN_STEP = 1e6"
   ]
  },
  {
   "cell_type": "code",
   "execution_count": 4,
   "metadata": {
    "pycharm": {
     "name": "#%%\n"
    }
   },
   "outputs": [
    {
     "ename": "NameError",
     "evalue": "name 'plot_train_curve' is not defined",
     "output_type": "error",
     "traceback": [
      "\u001B[0;31m---------------------------------------------------------------------------\u001B[0m",
      "\u001B[0;31mNameError\u001B[0m                                 Traceback (most recent call last)",
      "\u001B[0;32m/tmp/ipykernel_3680/3915310692.py\u001B[0m in \u001B[0;36m<module>\u001B[0;34m\u001B[0m\n\u001B[1;32m     55\u001B[0m         \u001B[0mgain\u001B[0m \u001B[0;34m=\u001B[0m \u001B[0mfinal\u001B[0m \u001B[0;34m-\u001B[0m \u001B[0minit\u001B[0m\u001B[0;34m\u001B[0m\u001B[0;34m\u001B[0m\u001B[0m\n\u001B[1;32m     56\u001B[0m         \u001B[0mprint\u001B[0m\u001B[0;34m(\u001B[0m\u001B[0;34m'%s: final: %.2f'\u001B[0m \u001B[0;34m%\u001B[0m \u001B[0;34m(\u001B[0m\u001B[0mname\u001B[0m\u001B[0;34m,\u001B[0m \u001B[0mfinal\u001B[0m\u001B[0;34m)\u001B[0m\u001B[0;34m)\u001B[0m\u001B[0;34m\u001B[0m\u001B[0;34m\u001B[0m\u001B[0m\n\u001B[0;32m---> 57\u001B[0;31m \u001B[0mplot_train_curve\u001B[0m\u001B[0;34m(\u001B[0m\u001B[0;34m)\u001B[0m\u001B[0;34m\u001B[0m\u001B[0;34m\u001B[0m\u001B[0m\n\u001B[0m",
      "\u001B[0;31mNameError\u001B[0m: name 'plot_train_curve' is not defined"
     ]
    }
   ],
   "source": [
    "window = 40\n",
    "def plot_train_curve_old(scenario='small_grid', date='jun06'):\n",
    "    cur_dir = base_dir + ('/%s/train_data' % scenario)\n",
    "    names = ['global', 'local', 'neighbor']\n",
    "    labels = ['Centralized A2C', 'Independent A2C', 'Multi-agent A2C']\n",
    "    if scenario == 'large_grid':\n",
    "        names = names[1:]\n",
    "        labels = labels[1:]\n",
    "    dfs = {}\n",
    "    for file in os.listdir(cur_dir):\n",
    "        name = file.split('_')[0]\n",
    "        print(file + ', ' + name)\n",
    "        if name in names:\n",
    "            df = pd.read_csv(cur_dir + '/' + file)\n",
    "            dfs[name] = df\n",
    "\n",
    "    plt.figure(figsize=(8,6))\n",
    "#     ymin = min([df.value.min() for df in dfs.values()])\n",
    "#     ymax = max([df.value.max() for df in dfs.values()])\n",
    "    ymin = []\n",
    "    ymax = []\n",
    "    xmin = min([df.step.min() for df in dfs.values()])\n",
    "    for i, name in enumerate(names):\n",
    "        df = dfs[name]\n",
    "#         plt.plot(df.Step.values, df.Value.values, color=COLORS[i], linewidth=3, label=labels[i])\n",
    "        x_mean = df.value.rolling(window).mean().values\n",
    "        x_std = df.value.rolling(window).std().values\n",
    "#         x_hi = df.value.rolling(window).max().values\n",
    "        plt.plot(df.step.values, x_mean, color=COLORS[name], linewidth=3, label=labels[i])\n",
    "        ymin.append(np.nanmin(x_mean - x_std))\n",
    "        ymax.append(np.nanmax(x_mean + x_std))\n",
    "        plt.fill_between(df.step.values, x_mean - x_std, x_mean + x_std, facecolor=COLORS[name], edgecolor='none', alpha=0.3)\n",
    "    ymin = min(ymin)\n",
    "    ymax = max(ymax)\n",
    "    plt.xlim([xmin,TRAIN_STEP])\n",
    "    plt.ylim([ymin * 1.05, ymax * 0.95])\n",
    "    plt.xticks(fontsize=15)\n",
    "    plt.yticks(fontsize=15)\n",
    "    # plt.gca().xaxis.set_major_formatter(mtick.FormatStrFormatter('%.2e'))\n",
    "    plt.xlabel('Training step', fontsize=20)\n",
    "    plt.ylabel('Averaged episode reward', fontsize=20)\n",
    "    plt.legend(loc='lower right', fontsize=20)\n",
    "    plt.tight_layout()\n",
    "    # plt.savefig(plot_dir + '/small_grid_train.png')\n",
    "    plt.savefig(plot_dir + ('/%s_train.pdf' % scenario))\n",
    "    plt.close()\n",
    "\n",
    "    # calculate performance gains\n",
    "    print('final performance wrt centralized agent:')\n",
    "    ys = {}\n",
    "    for name in names:\n",
    "        y = dfs[name].value.values\n",
    "        final = np.mean(y[-window:])\n",
    "        init = np.mean(y[:window])\n",
    "        gain = final - init\n",
    "        print('%s: final: %.2f' % (name, final))\n",
    "plot_train_curve()"
   ]
  },
  {
   "cell_type": "code",
   "execution_count": 8,
   "metadata": {
    "pycharm": {
     "name": "#%%\n"
    }
   },
   "outputs": [
    {
     "name": "stdout",
     "output_type": "stream",
     "text": [
      "mqld_train_reward.csv, mqld\n",
      "iqld_train_reward.csv, iqld\n",
      "ma2c_train_reward.csv, ma2c\n",
      "ia2c_train_reward.csv, ia2c\n",
      "iqll_train_reward.csv, iqll\n"
     ]
    }
   ],
   "source": [
    "window = 100\n",
    "def plot_train_curve(scenario='large_grid', date='oct07'):\n",
    "    cur_dir = base_dir + ('/%s/train_data' % scenario)\n",
    "#    names = ['ma2c', 'ia2c', 'iqll']\n",
    "#    labels = ['MA2C', 'IA2C', 'IQL-LR']\n",
    "    names = ['ma2c', 'ia2c', 'iqll', 'iqld', 'mqld']\n",
    "    labels = ['MA2C', 'IA2C', 'IQL-LR', 'IQL-DNN', 'MQL']\n",
    "#     names = ['ma2c', 'ia2c', 'iqld', 'iqll']\n",
    "#     labels = ['MA2C', 'IA2C', 'IQL-DNN', 'IQL-LR']\n",
    "    dfs = {}\n",
    "    for file in os.listdir(cur_dir):\n",
    "        name = file.split('_')[0]\n",
    "        print(file + ', ' + name)\n",
    "        if (name in names) and (name != 'greedy'):\n",
    "            df = pd.read_csv(cur_dir + '/' + file)\n",
    "            dfs[name] = df[df.test_id == -1]\n",
    "\n",
    "    plt.figure(figsize=(9,6))\n",
    "    \n",
    "#     ax = fig.add_subplot(111)\n",
    "#     ax.patch.set_facecolor('white')\n",
    "#     ax.patch.set_alpha(0.5)\n",
    "    \n",
    "    \n",
    "    \n",
    "    ymin = []\n",
    "    ymax = []\n",
    "    \n",
    "    for i, name in enumerate(names):\n",
    "        if name == 'greedy':\n",
    "            plt.axhline(y=-972.28, color=COLORS[name], linewidth=3, label=labels[i])\n",
    "        else:\n",
    "            df = dfs[name]\n",
    "            x_mean = df.avg_reward.rolling(window).mean().values\n",
    "            x_std = df.avg_reward.rolling(window).std().values\n",
    "            plt.plot(df.step.values, x_mean, color=COLORS[name], linewidth=3, label=labels[i])\n",
    "            ymin.append(np.nanmin(x_mean - 0.5 * x_std))\n",
    "            ymax.append(np.nanmax(x_mean + 0.5 * x_std))\n",
    "            plt.fill_between(df.step.values, x_mean - x_std, x_mean + x_std, facecolor=COLORS[name], edgecolor='none', alpha=0.1)\n",
    "            \n",
    "            \n",
    "            \n",
    "            \n",
    "    ymin = min(ymin)\n",
    "    ymax = max(ymax)\n",
    "    plt.xlim([0, TRAIN_STEP])\n",
    "    if scenario == 'large_grid':\n",
    "        plt.ylim([-2500, 0])\n",
    "    else:\n",
    "        plt.ylim([-225, -100])\n",
    "    \n",
    "    def millions(x, pos):\n",
    "        return '%1.1fM' % (x*1e-6)\n",
    "\n",
    "    formatter = FuncFormatter(millions)\n",
    "    plt.gca().xaxis.set_major_formatter(formatter)\n",
    "    plt.xticks(fontsize=15)\n",
    "    plt.yticks(fontsize=15)\n",
    "    plt.xlabel('Training step', fontsize=18)\n",
    "    plt.ylabel('Average episode reward', fontsize=18)\n",
    "    plt.legend(loc='lower left', fontsize=12)\n",
    "    plt.tight_layout()\n",
    "    plt.savefig(plot_dir + ('/%s_train.pdf' % scenario))\n",
    "    plt.close()\n",
    "\n",
    "plot_train_curve(date='sep2019')"
   ]
  },
  {
   "cell_type": "code",
   "execution_count": null,
   "metadata": {
    "pycharm": {
     "name": "#%%\n"
    }
   },
   "outputs": [],
   "source": []
  },
  {
   "cell_type": "markdown",
   "metadata": {
    "pycharm": {
     "name": "#%% md\n"
    }
   },
   "source": [
    "## plot training curves in large grid env"
   ]
  },
  {
   "cell_type": "code",
   "execution_count": 5,
   "metadata": {
    "pycharm": {
     "name": "#%%\n"
    }
   },
   "outputs": [
    {
     "ename": "NameError",
     "evalue": "name 'plot_train_curve' is not defined",
     "output_type": "error",
     "traceback": [
      "\u001B[0;31m---------------------------------------------------------------------------\u001B[0m",
      "\u001B[0;31mNameError\u001B[0m                                 Traceback (most recent call last)",
      "\u001B[0;32m/tmp/ipykernel_3680/4293097826.py\u001B[0m in \u001B[0;36m<module>\u001B[0;34m\u001B[0m\n\u001B[0;32m----> 1\u001B[0;31m \u001B[0mplot_train_curve\u001B[0m\u001B[0;34m(\u001B[0m\u001B[0mscenario\u001B[0m\u001B[0;34m=\u001B[0m\u001B[0;34m'real_net'\u001B[0m\u001B[0;34m)\u001B[0m\u001B[0;34m\u001B[0m\u001B[0;34m\u001B[0m\u001B[0m\n\u001B[0m",
      "\u001B[0;31mNameError\u001B[0m: name 'plot_train_curve' is not defined"
     ]
    }
   ],
   "source": [
    "plot_train_curve(scenario='real_net')"
   ]
  },
  {
   "cell_type": "markdown",
   "metadata": {
    "pycharm": {
     "name": "#%% md\n"
    }
   },
   "source": [
    "## plot evaluation curves in small grid env"
   ]
  },
  {
   "cell_type": "code",
   "execution_count": 6,
   "metadata": {
    "pycharm": {
     "name": "#%%\n"
    }
   },
   "outputs": [
    {
     "name": "stdout",
     "output_type": "stream",
     "text": [
      "MA2C avg_queue\n",
      "mean: 1.87\n",
      "std: 1.04\n",
      "min: 0.00\n",
      "max: 4.17\n",
      "IA2C avg_queue\n",
      "mean: 3.47\n",
      "std: 2.08\n",
      "min: 0.00\n",
      "max: 6.20\n",
      "IQL-LR avg_queue\n",
      "mean: 4.04\n",
      "std: 2.90\n",
      "min: 0.00\n",
      "max: 8.23\n",
      "IQL-DNN avg_queue\n",
      "mean: 4.12\n",
      "std: 2.74\n",
      "min: 0.00\n",
      "max: 7.88\n",
      "MQL avg_queue\n",
      "mean: 1.02\n",
      "std: 0.37\n",
      "min: 0.00\n",
      "max: 1.93\n",
      "Greedy avg_queue\n",
      "mean: 2.02\n",
      "std: 1.28\n",
      "min: 0.00\n",
      "max: 3.64\n",
      "MA2C avg_speed_mps\n",
      "mean: 2.56\n",
      "std: 1.20\n",
      "min: 0.00\n",
      "max: 13.30\n",
      "IA2C avg_speed_mps\n",
      "mean: 1.73\n",
      "std: 1.56\n",
      "min: 0.00\n",
      "max: 11.82\n",
      "IQL-LR avg_speed_mps\n",
      "mean: 2.62\n",
      "std: 3.05\n",
      "min: 0.00\n",
      "max: 13.77\n",
      "IQL-DNN avg_speed_mps\n",
      "mean: 1.87\n",
      "std: 1.98\n",
      "min: 0.00\n",
      "max: 9.77\n",
      "MQL avg_speed_mps\n",
      "mean: 2.94\n",
      "std: 0.71\n",
      "min: 0.00\n",
      "max: 8.24\n",
      "Greedy avg_speed_mps\n",
      "mean: 3.52\n",
      "std: 2.97\n",
      "min: 0.00\n",
      "max: 13.30\n",
      "MA2C avg_wait_sec\n",
      "mean: 14.14\n",
      "std: 9.38\n",
      "min: 0.00\n",
      "max: 48.20\n",
      "IA2C avg_wait_sec\n",
      "mean: 55.71\n",
      "std: 46.13\n",
      "min: 0.00\n",
      "max: 169.83\n",
      "IQL-LR avg_wait_sec\n",
      "mean: 79.46\n",
      "std: 94.74\n",
      "min: 0.00\n",
      "max: 329.13\n",
      "IQL-DNN avg_wait_sec\n",
      "mean: 136.84\n",
      "std: 107.45\n",
      "min: 0.00\n",
      "max: 331.44\n",
      "MQL avg_wait_sec\n",
      "mean: 13.54\n",
      "std: 5.38\n",
      "min: 0.00\n",
      "max: 36.61\n",
      "Greedy avg_wait_sec\n",
      "mean: 85.32\n",
      "std: 112.61\n",
      "min: 0.00\n",
      "max: 418.19\n",
      "MA2C number_arrived_car\n",
      "mean: 0.62\n",
      "std: 0.80\n",
      "min: 0.00\n",
      "max: 5.00\n",
      "IA2C number_arrived_car\n",
      "mean: 0.42\n",
      "std: 0.63\n",
      "min: 0.00\n",
      "max: 4.00\n",
      "IQL-LR number_arrived_car\n",
      "mean: 0.53\n",
      "std: 0.74\n",
      "min: 0.00\n",
      "max: 4.00\n",
      "IQL-DNN number_arrived_car\n",
      "mean: 0.33\n",
      "std: 0.57\n",
      "min: 0.00\n",
      "max: 4.00\n",
      "MQL number_arrived_car\n",
      "mean: 0.61\n",
      "std: 0.80\n",
      "min: 0.00\n",
      "max: 4.00\n",
      "Greedy number_arrived_car\n",
      "mean: 0.88\n",
      "std: 0.92\n",
      "min: 0.00\n",
      "max: 5.00\n",
      "MA2C wait_sec\n",
      "mean: 284\n",
      "max: 1267\n",
      "IA2C wait_sec\n",
      "mean: 432\n",
      "max: 2459\n",
      "IQL-LR wait_sec\n",
      "mean: 231\n",
      "max: 2235\n",
      "IQL-DNN wait_sec\n",
      "mean: 364\n",
      "max: 2645\n",
      "MQL wait_sec\n",
      "mean: 214\n",
      "max: 1669\n",
      "Greedy wait_sec\n",
      "mean: 158\n",
      "max: 1802\n",
      "MA2C reward\n",
      "mean: -379.10\n",
      "std: 194.66\n",
      "min: -848.20\n",
      "max: 0.00\n",
      "IA2C reward\n",
      "mean: -846.88\n",
      "std: 627.32\n",
      "min: -2361.80\n",
      "max: 0.00\n",
      "IQL-LR reward\n",
      "mean: -1409.25\n",
      "std: 1548.48\n",
      "min: -5654.20\n",
      "max: 0.00\n",
      "IQL-DNN reward\n",
      "mean: -2197.58\n",
      "std: 1728.80\n",
      "min: -5302.80\n",
      "max: -3.60\n",
      "MQL reward\n",
      "mean: -221.69\n",
      "std: 73.77\n",
      "min: -393.20\n",
      "max: -2.00\n",
      "Greedy reward\n",
      "mean: -972.70\n",
      "std: 829.03\n",
      "min: -2803.00\n",
      "max: 0.00\n"
     ]
    }
   ],
   "source": [
    "episode_sec = 3600\n",
    "def fixed_agg(xs, window, agg):\n",
    "    xs = np.reshape(xs, (-1, window))\n",
    "    if agg == 'sum':\n",
    "        return np.sum(xs, axis=1)\n",
    "    elif agg == 'mean':\n",
    "        return np.mean(xs, axis=1)\n",
    "    elif agg == 'median':\n",
    "        return np.median(xs, axis=1)\n",
    "\n",
    "def varied_agg(xs, ts, window, agg):\n",
    "    t_bin = window\n",
    "    x_bins = []\n",
    "    cur_x = []\n",
    "    xs = list(xs) + [0]\n",
    "    ts = list(ts) + [episode_sec + 1]\n",
    "    i = 0\n",
    "    while i < len(xs):\n",
    "        x = xs[i]\n",
    "        t = ts[i]\n",
    "        if t <= t_bin:\n",
    "            cur_x.append(x)\n",
    "            i += 1\n",
    "        else:\n",
    "            if not len(cur_x):\n",
    "                x_bins.append(0)\n",
    "            else:\n",
    "                if agg == 'sum':\n",
    "                    x_stat = np.sum(np.array(cur_x))\n",
    "                elif agg == 'mean':\n",
    "                    x_stat = np.mean(np.array(cur_x))\n",
    "                elif agg == 'median':\n",
    "                    x_stat = np.median(np.array(cur_x))\n",
    "                x_bins.append(x_stat)\n",
    "            t_bin += window\n",
    "            cur_x = []\n",
    "    return np.array(x_bins)\n",
    "    \n",
    "def plot_series(df, name, tab, label, color, window=None, agg='sum', reward=False):\n",
    "    episodes = list(df.episode.unique())\n",
    "    num_episode = len(episodes)\n",
    "    num_time = episode_sec\n",
    "    print(label, name)\n",
    "    # always use avg over episodes\n",
    "    if tab != 'trip':\n",
    "        res = df.loc[df.episode == episodes[0], name].values\n",
    "        for episode in episodes[1:]:\n",
    "            res += df.loc[df.episode == episode, name].values\n",
    "        res = res / num_episode\n",
    "        print('mean: %.2f' % np.mean(res))\n",
    "        print('std: %.2f' % np.std(res))\n",
    "        print('min: %.2f' % np.min(res))\n",
    "        print('max: %.2f' % np.max(res))\n",
    "    else:\n",
    "        res = []\n",
    "        for episode in episodes:\n",
    "            res += list(df.loc[df.episode == episode, name].values)\n",
    "        \n",
    "        print('mean: %d' % np.mean(res))\n",
    "        print('max: %d' % np.max(res))\n",
    "        \n",
    "    if reward:\n",
    "        num_time = 720\n",
    "    if window and (agg != 'mv'):\n",
    "        num_time = num_time // window\n",
    "    x = np.zeros((num_episode, num_time))\n",
    "    for i, episode in enumerate(episodes):\n",
    "        t_col = 'arrival_sec' if  tab == 'trip' else 'time_sec' \n",
    "        cur_df = df[df.episode == episode].sort_values(t_col)\n",
    "        if window and (agg == 'mv'):\n",
    "            cur_x = cur_df[name].rolling(window, min_periods=1).mean().values\n",
    "        else:\n",
    "            cur_x = cur_df[name].values    \n",
    "        if window and (agg != 'mv'):\n",
    "            if tab == 'trip':\n",
    "                cur_x = varied_agg(cur_x, df[df.episode == episode].arrival_sec.values, window, agg)\n",
    "            else:    \n",
    "                cur_x = fixed_agg(cur_x, window, agg)\n",
    "#         print(cur_x.shape)\n",
    "        x[i] = cur_x\n",
    "    if num_episode > 1:\n",
    "        x_mean = np.mean(x, axis=0)\n",
    "        x_std = np.std(x, axis=0)\n",
    "    else:\n",
    "        x_mean = x[0]\n",
    "        x_std = np.zeros(num_time)\n",
    "    if (not window) or (agg == 'mv'):\n",
    "        t = np.arange(1, episode_sec + 1)\n",
    "        if reward:\n",
    "            t = np.arange(5, episode_sec + 1, 5)\n",
    "    else:\n",
    "        t = np.arange(window, episode_sec + 1, window)\n",
    "#     if reward:\n",
    "#         print('%s: %.2f' % (label, np.mean(x_mean)))\n",
    "\n",
    "\n",
    "    # important sentence\n",
    "    \n",
    "    plt.plot(t, x_mean, color=color, linewidth=3, label=label)\n",
    "    \n",
    "    \n",
    "    ###\n",
    "    # plt.fill_between(t, x_mean - x_std, x_mean + x_std, facecolor=color, edgecolor='none', alpha=0.1)\n",
    "    # plt.fill_between(t, x_mean - x_std, x_mean + x_std, facecolor=color, edgecolor='none', alpha=0.1)\n",
    "\n",
    "    if num_episode > 1:\n",
    "        x_lo = x_mean - x_std\n",
    "        if not reward:\n",
    "            x_lo = np.maximum(x_lo, 0)\n",
    "        x_hi = x_mean + x_std\n",
    "        plt.fill_between(t, x_lo, x_hi, facecolor=color, edgecolor='none', alpha=0.1)\n",
    "        return np.nanmin(x_mean - 0.5 * x_std), np.nanmax(x_mean + 0.5 * x_std)\n",
    "    else:\n",
    "        # plt.fill_between(t, x_mean - x_std, x_mean + x_std, facecolor=color, edgecolor='none', alpha=0.1)\n",
    "        return np.nanmin(x_mean), np.nanmax(x_mean)\n",
    "    \n",
    "def plot_combined_series(dfs, agent_names, col_name, tab_name, agent_labels, y_label, fig_name,\n",
    "                         window=None, agg='sum', reward=False):\n",
    "    plt.figure(figsize=(9,6))\n",
    "    ymin = np.inf\n",
    "    ymax = -np.inf\n",
    "    for i, aname in enumerate(agent_names):\n",
    "        df = dfs[aname][tab_name]\n",
    "        y0, y1 = plot_series(df, col_name, tab_name, agent_labels[i], COLORS[aname], window=window, agg=agg,\n",
    "                             reward=reward)\n",
    "        ymin = min(ymin, y0)\n",
    "        ymax = max(ymax, y1)\n",
    "    \n",
    "    plt.xlim([0, episode_sec])\n",
    "    if (col_name == 'average_speed') and ('global' in agent_names):\n",
    "        plt.ylim([0, 6])\n",
    "    elif (col_name == 'wait_sec') and ('global' not in agent_names):\n",
    "        plt.ylim([0, 3500])\n",
    "    else:\n",
    "        plt.ylim([ymin, ymax])\n",
    "    plt.xticks(fontsize=15)\n",
    "    plt.yticks(fontsize=15)\n",
    "    plt.xlabel('Simulation time (sec)', fontsize=18)\n",
    "    plt.ylabel(y_label, fontsize=18)\n",
    "    plt.legend(loc='upper left', fontsize=18)\n",
    "    plt.tight_layout()\n",
    "    plt.savefig(plot_dir + ('/%s.pdf' % fig_name))\n",
    "    plt.close()\n",
    "    \n",
    "def sum_reward(x):\n",
    "    x = [float(i) for i in x.split(',')]\n",
    "    return np.sum(x)\n",
    "\n",
    "def plot_eval_curve(scenario='large_grid', date='dec16'):\n",
    "    cur_dir = base_dir + ('/%s/eva_data' % scenario)\n",
    "    names = ['ma2c', 'ia2c', 'iqll', 'iqld', 'mqld', 'greedy']\n",
    "    labels = ['MA2C', 'IA2C', 'IQL-LR', 'IQL-DNN', 'MQL', 'Greedy']\n",
    "#    names = ['ma2c', 'ia2c', 'iqll', 'greedy']\n",
    "#    labels = ['MA2C', 'IA2C', 'IQL-LR', 'Greedy']\n",
    "#     names = ['iqld', 'greedy']\n",
    "#     labels = ['IQL-DNN','Greedy']\n",
    "#    names = ['ia2c', 'greedy']\n",
    "#    labels = ['IA2C', 'Greedy']\n",
    "    dfs = {}\n",
    "    for file in os.listdir(cur_dir):\n",
    "        if not file.endswith('.csv'):\n",
    "            continue\n",
    "        if not file.startswith(scenario):\n",
    "            continue\n",
    "        name = file.split('_')[2]\n",
    "        measure = file.split('_')[3].split('.')[0]\n",
    "        if name in names:\n",
    "            df = pd.read_csv(cur_dir + '/' + file)\n",
    "#             if measure == 'traffic':\n",
    "#                 df['ratio_stopped_car'] = df.number_stopped_car / df.number_total_car * 100\n",
    "#             if measure == 'control':\n",
    "#                 df['global_reward'] = df.reward.apply(sum_reward)\n",
    "            if name not in dfs:\n",
    "                dfs[name] = {}\n",
    "            dfs[name][measure] = df\n",
    "    \n",
    "    # plot avg queue\n",
    "    plot_combined_series(dfs, names, 'avg_queue', 'traffic', labels,\n",
    "                         'Average queue length (veh)', scenario + '_queue', window=60, agg='mv')\n",
    "    # plot avg speed\n",
    "    plot_combined_series(dfs, names, 'avg_speed_mps', 'traffic', labels,\n",
    "                         'Average car speed (m/s)', scenario + '_speed', window=60, agg='mv')\n",
    "    # plot avg waiting time\n",
    "    plot_combined_series(dfs, names, 'avg_wait_sec', 'traffic', labels,\n",
    "                         'Average intersection delay (s/veh)', scenario + '_wait', window=60, agg='mv')\n",
    "    # plot trip completion\n",
    "    plot_combined_series(dfs, names, 'number_arrived_car', 'traffic', labels,\n",
    "                         'Trip completion rate (veh/5min)', scenario + '_tripcomp', window=300, agg='sum')\n",
    "    # plot trip time\n",
    "#     plot_combined_series(dfs, names, 'duration_sec', 'trip', labels,\n",
    "#                          'Avg trip time (sec)', scenario + '_triptime', window=60, agg='mean')\n",
    "#     plot trip waiting time\n",
    "    plot_combined_series(dfs, names, 'wait_sec', 'trip', labels,\n",
    "                         'Avg trip delay (s)', scenario + '_tripwait', window=60, agg='mean')\n",
    "    plot_combined_series(dfs, names, 'reward', 'control', labels,\n",
    "                         'Step reward', scenario + '_reward', reward=True, window=6, agg='mv')\n",
    "plot_eval_curve()"
   ]
  },
  {
   "cell_type": "markdown",
   "metadata": {
    "pycharm": {
     "name": "#%% md\n"
    }
   },
   "source": [
    "# plot evaluation curves in large grid env"
   ]
  },
  {
   "cell_type": "code",
   "execution_count": 7,
   "metadata": {
    "pycharm": {
     "name": "#%%\n"
    }
   },
   "outputs": [
    {
     "name": "stdout",
     "output_type": "stream",
     "text": [
      "MA2C avg_queue\n",
      "mean: 0.29\n",
      "std: 0.22\n",
      "min: 0.00\n",
      "max: 0.75\n",
      "IA2C avg_queue\n",
      "mean: 0.52\n",
      "std: 0.38\n",
      "min: 0.00\n",
      "max: 1.16\n",
      "IQL-LR avg_queue\n",
      "mean: 1.19\n",
      "std: 0.83\n",
      "min: 0.00\n",
      "max: 2.21\n",
      "IQL-DNN avg_queue\n",
      "mean: 1.57\n",
      "std: 0.97\n",
      "min: 0.00\n",
      "max: 2.69\n"
     ]
    },
    {
     "ename": "KeyError",
     "evalue": "'mqld'",
     "output_type": "error",
     "traceback": [
      "\u001B[0;31m---------------------------------------------------------------------------\u001B[0m",
      "\u001B[0;31mKeyError\u001B[0m                                  Traceback (most recent call last)",
      "\u001B[0;32m/tmp/ipykernel_3680/919116905.py\u001B[0m in \u001B[0;36m<module>\u001B[0;34m\u001B[0m\n\u001B[0;32m----> 1\u001B[0;31m \u001B[0mplot_eval_curve\u001B[0m\u001B[0;34m(\u001B[0m\u001B[0mscenario\u001B[0m\u001B[0;34m=\u001B[0m\u001B[0;34m'real_net'\u001B[0m\u001B[0;34m)\u001B[0m\u001B[0;34m\u001B[0m\u001B[0;34m\u001B[0m\u001B[0m\n\u001B[0m",
      "\u001B[0;32m/tmp/ipykernel_3680/4071436318.py\u001B[0m in \u001B[0;36mplot_eval_curve\u001B[0;34m(scenario, date)\u001B[0m\n\u001B[1;32m    176\u001B[0m \u001B[0;34m\u001B[0m\u001B[0m\n\u001B[1;32m    177\u001B[0m     \u001B[0;31m# plot avg queue\u001B[0m\u001B[0;34m\u001B[0m\u001B[0;34m\u001B[0m\u001B[0m\n\u001B[0;32m--> 178\u001B[0;31m     plot_combined_series(dfs, names, 'avg_queue', 'traffic', labels,\n\u001B[0m\u001B[1;32m    179\u001B[0m                          'Average queue length (veh)', scenario + '_queue', window=60, agg='mv')\n\u001B[1;32m    180\u001B[0m     \u001B[0;31m# plot avg speed\u001B[0m\u001B[0;34m\u001B[0m\u001B[0;34m\u001B[0m\u001B[0m\n",
      "\u001B[0;32m/tmp/ipykernel_3680/4071436318.py\u001B[0m in \u001B[0;36mplot_combined_series\u001B[0;34m(dfs, agent_names, col_name, tab_name, agent_labels, y_label, fig_name, window, agg, reward)\u001B[0m\n\u001B[1;32m    121\u001B[0m     \u001B[0mymax\u001B[0m \u001B[0;34m=\u001B[0m \u001B[0;34m-\u001B[0m\u001B[0mnp\u001B[0m\u001B[0;34m.\u001B[0m\u001B[0minf\u001B[0m\u001B[0;34m\u001B[0m\u001B[0;34m\u001B[0m\u001B[0m\n\u001B[1;32m    122\u001B[0m     \u001B[0;32mfor\u001B[0m \u001B[0mi\u001B[0m\u001B[0;34m,\u001B[0m \u001B[0maname\u001B[0m \u001B[0;32min\u001B[0m \u001B[0menumerate\u001B[0m\u001B[0;34m(\u001B[0m\u001B[0magent_names\u001B[0m\u001B[0;34m)\u001B[0m\u001B[0;34m:\u001B[0m\u001B[0;34m\u001B[0m\u001B[0;34m\u001B[0m\u001B[0m\n\u001B[0;32m--> 123\u001B[0;31m         \u001B[0mdf\u001B[0m \u001B[0;34m=\u001B[0m \u001B[0mdfs\u001B[0m\u001B[0;34m[\u001B[0m\u001B[0maname\u001B[0m\u001B[0;34m]\u001B[0m\u001B[0;34m[\u001B[0m\u001B[0mtab_name\u001B[0m\u001B[0;34m]\u001B[0m\u001B[0;34m\u001B[0m\u001B[0;34m\u001B[0m\u001B[0m\n\u001B[0m\u001B[1;32m    124\u001B[0m         y0, y1 = plot_series(df, col_name, tab_name, agent_labels[i], COLORS[aname], window=window, agg=agg,\n\u001B[1;32m    125\u001B[0m                              reward=reward)\n",
      "\u001B[0;31mKeyError\u001B[0m: 'mqld'"
     ]
    },
    {
     "data": {
      "image/png": "[encoded data removed]",
      "text/plain": [
       "<Figure size 648x432 with 1 Axes>"
      ]
     },
     "metadata": {
      "needs_background": "light"
     },
     "output_type": "display_data"
    }
   ],
   "source": [
    "plot_eval_curve(scenario='real_net')"
   ]
  },
  {
   "cell_type": "code",
   "execution_count": null,
   "metadata": {
    "pycharm": {
     "name": "#%%\n"
    }
   },
   "outputs": [],
   "source": [
    "peak_flow1 = 1100\n",
    "peak_flow2 = 925\n",
    "colors = 'brgm'\n",
    "ratios1 = np.array([0.4, 0.7, 0.9, 1.0, 0.75, 0.5, 0.25]) # start from 0\n",
    "ratios2 = np.array([0.3, 0.8, 0.9, 1.0, 0.8, 0.6, 0.2])   # start from 15min\n",
    "flows1 = peak_flow1 * 0.6 * ratios1\n",
    "flows2 = peak_flow1 * ratios1\n",
    "flows3 = peak_flow2 * 0.6 * ratios2\n",
    "flows4 = peak_flow2 * ratios2\n",
    "flows = [list(flows1) + [0] * 6, list(flows2) + [0] * 6, \n",
    "         [0] * 3 + list(flows3) + [0] * 3, [0] * 3 + list(flows4) + [0] * 3]\n",
    "t = np.arange(0, 3601, 300)\n",
    "t1 = t[:8]\n",
    "t2 = t[3:12]\n",
    "ts = [t1, t1, t2, t2]\n",
    "\n",
    "plt.figure(figsize=(9,6))\n",
    "labels = ['f1', 'F1', 'f2', 'F2']\n",
    "for i in range(4):\n",
    "    if i % 2 == 0:\n",
    "        plt.step(t, flows[i], where='post', color=colors[i], linestyle=':', linewidth=3, label=labels[i])\n",
    "    else:\n",
    "        plt.step(t, flows[i], where='post', color=colors[i], linewidth=6, label=labels[i], alpha=0.5)\n",
    "plt.xticks(fontsize=15)\n",
    "plt.yticks(fontsize=15)\n",
    "plt.xlabel('Simulation time (sec)', fontsize=18)\n",
    "plt.ylabel('Flow rate (veh/hr)', fontsize=18)\n",
    "plt.legend(loc='best', fontsize=18)\n",
    "plt.xlim([0, 3600])\n",
    "plt.tight_layout()\n",
    "plt.savefig(plot_dir + ('/large_grid_flow.pdf'))\n",
    "plt.close()"
   ]
  },
  {
   "cell_type": "code",
   "execution_count": 2,
   "metadata": {
    "pycharm": {
     "name": "#%%\n"
    }
   },
   "outputs": [
    {
     "name": "stdout",
     "output_type": "stream",
     "text": [
      "74.88569578307643\n"
     ]
    }
   ],
   "source": [
    "x = [406.26, 364.03, 358.48, 348.21, 334.44]\n",
    "y = [299.84, 314.63, 316.57, 317.97, 319.84]\n",
    "# x = [112.92, 124.89, 131.78, 139.17, 147.11, 150.48, 155.51]\n",
    "# y = [358.56, 371.53, 379.00, 384.55, 386.97, 385.87, 384.24]\n",
    "def get_len(x, y):\n",
    "    l = 0\n",
    "    for i in range(len(x) - 1):\n",
    "        l += np.sqrt((x[i+1] - x[i]) ** 2 + (y[i+1] - y[i]) ** 2)\n",
    "    print(l)\n",
    "get_len(x, y)"
   ]
  },
  {
   "cell_type": "code",
   "execution_count": 3,
   "metadata": {
    "pycharm": {
     "name": "#%%\n"
    }
   },
   "outputs": [
    {
     "ename": "NameError",
     "evalue": "name 'base_dir' is not defined",
     "output_type": "error",
     "traceback": [
      "\u001B[0;31m---------------------------------------------------------------------------\u001B[0m",
      "\u001B[0;31mNameError\u001B[0m                                 Traceback (most recent call last)",
      "\u001B[0;32m/tmp/ipykernel_2940/4247361453.py\u001B[0m in \u001B[0;36m<module>\u001B[0;34m\u001B[0m\n\u001B[1;32m     40\u001B[0m     \u001B[0mplt\u001B[0m\u001B[0;34m.\u001B[0m\u001B[0msavefig\u001B[0m\u001B[0;34m(\u001B[0m\u001B[0mplot_dir\u001B[0m \u001B[0;34m+\u001B[0m \u001B[0;34m(\u001B[0m\u001B[0;34m'/real_net_mfd.pdf'\u001B[0m\u001B[0;34m)\u001B[0m\u001B[0;34m)\u001B[0m\u001B[0;34m\u001B[0m\u001B[0;34m\u001B[0m\u001B[0m\n\u001B[1;32m     41\u001B[0m     \u001B[0mplt\u001B[0m\u001B[0;34m.\u001B[0m\u001B[0mclose\u001B[0m\u001B[0;34m(\u001B[0m\u001B[0;34m)\u001B[0m\u001B[0;34m\u001B[0m\u001B[0;34m\u001B[0m\u001B[0m\n\u001B[0;32m---> 42\u001B[0;31m \u001B[0mplot_mfd_curve\u001B[0m\u001B[0;34m(\u001B[0m\u001B[0;34m)\u001B[0m\u001B[0;34m\u001B[0m\u001B[0;34m\u001B[0m\u001B[0m\n\u001B[0m",
      "\u001B[0;32m/tmp/ipykernel_2940/4247361453.py\u001B[0m in \u001B[0;36mplot_mfd_curve\u001B[0;34m(scenario, date)\u001B[0m\n\u001B[1;32m     12\u001B[0m \u001B[0;34m\u001B[0m\u001B[0m\n\u001B[1;32m     13\u001B[0m \u001B[0;32mdef\u001B[0m \u001B[0mplot_mfd_curve\u001B[0m\u001B[0;34m(\u001B[0m\u001B[0mscenario\u001B[0m\u001B[0;34m=\u001B[0m\u001B[0;34m'real_net'\u001B[0m\u001B[0;34m,\u001B[0m \u001B[0mdate\u001B[0m\u001B[0;34m=\u001B[0m\u001B[0;34m'oct07'\u001B[0m\u001B[0;34m)\u001B[0m\u001B[0;34m:\u001B[0m\u001B[0;34m\u001B[0m\u001B[0;34m\u001B[0m\u001B[0m\n\u001B[0;32m---> 14\u001B[0;31m     \u001B[0mcur_dir\u001B[0m \u001B[0;34m=\u001B[0m \u001B[0mbase_dir\u001B[0m \u001B[0;34m+\u001B[0m \u001B[0;34m(\u001B[0m\u001B[0;34m'/%s/eva_data'\u001B[0m \u001B[0;34m%\u001B[0m \u001B[0mscenario\u001B[0m\u001B[0;34m)\u001B[0m\u001B[0;34m\u001B[0m\u001B[0;34m\u001B[0m\u001B[0m\n\u001B[0m\u001B[1;32m     15\u001B[0m     \u001B[0mnames\u001B[0m \u001B[0;34m=\u001B[0m \u001B[0;34m[\u001B[0m\u001B[0;34m'ma2c'\u001B[0m\u001B[0;34m,\u001B[0m \u001B[0;34m'ia2c'\u001B[0m\u001B[0;34m,\u001B[0m \u001B[0;34m'greedy'\u001B[0m\u001B[0;34m]\u001B[0m\u001B[0;34m\u001B[0m\u001B[0;34m\u001B[0m\u001B[0m\n\u001B[1;32m     16\u001B[0m     \u001B[0mlabels\u001B[0m \u001B[0;34m=\u001B[0m \u001B[0;34m[\u001B[0m\u001B[0;34m'MA2C'\u001B[0m\u001B[0;34m,\u001B[0m \u001B[0;34m'IA2C'\u001B[0m\u001B[0;34m,\u001B[0m \u001B[0;34m'Greedy'\u001B[0m\u001B[0;34m]\u001B[0m\u001B[0;34m\u001B[0m\u001B[0;34m\u001B[0m\u001B[0m\n",
      "\u001B[0;31mNameError\u001B[0m: name 'base_dir' is not defined"
     ]
    }
   ],
   "source": [
    "def get_mfd_points(df, dt_sec=300):\n",
    "    outputs = []\n",
    "    accs = []\n",
    "    ts = np.arange(0, 3601, dt_sec)\n",
    "    for episode in df.episode.unique():\n",
    "        cur_df = df[df.episode == episode]\n",
    "        for i in range(len(ts) - 1):\n",
    "            cur_df1 = cur_df[(cur_df.time_sec >= ts[i]) & (cur_df.time_sec < ts[i+1])]\n",
    "            outputs.append(np.sum(cur_df1.number_arrived_car.values) * 60 / dt_sec)\n",
    "            accs.append(np.mean(cur_df1.number_total_car.values))\n",
    "    return np.array(outputs), np.array(accs)\n",
    "    \n",
    "def plot_mfd_curve(scenario='real_net', date='oct07'):\n",
    "    cur_dir = base_dir + ('/%s/eva_data' % scenario)\n",
    "    names = ['ma2c', 'ia2c', 'greedy']\n",
    "    labels = ['MA2C', 'IA2C', 'Greedy']\n",
    "    dfs = {}\n",
    "    for file in os.listdir(cur_dir):\n",
    "        if not file.endswith('traffic.csv'):\n",
    "            continue\n",
    "        if not file.startswith(scenario):\n",
    "            continue\n",
    "        name = file.split('_')[2]\n",
    "        if name not in names:\n",
    "            continue\n",
    "        df = pd.read_csv(cur_dir + '/' + file)\n",
    "        outputs, accs = get_mfd_points(df)\n",
    "        dfs[name] = (accs, outputs)\n",
    "    \n",
    "    plt.figure(figsize=(9,6))\n",
    "    styles = 'o^s'\n",
    "    for i, name in enumerate(names):\n",
    "        plt.scatter(dfs[name][0], dfs[name][1], s=80, marker=styles[i], c=COLORS[name], edgecolors='none', label=labels[i], alpha=0.75)\n",
    "    plt.xticks(fontsize=15)\n",
    "    plt.yticks(fontsize=15)\n",
    "    plt.xlabel('Accumulation (veh)', fontsize=18)\n",
    "    plt.ylabel('Output flow (veh/min)', fontsize=18)\n",
    "    plt.legend(loc='upper right', fontsize=18)\n",
    "    plt.tight_layout()\n",
    "    plt.savefig(plot_dir + ('/real_net_mfd.pdf'))\n",
    "    plt.close()\n",
    "plot_mfd_curve()     "
   ]
  },
  {
   "cell_type": "code",
   "execution_count": null,
   "metadata": {
    "pycharm": {
     "name": "#%%\n"
    }
   },
   "outputs": [],
   "source": [
    "df = pd.read_csv(base_dir + '/real_net_experimental_data/eva_data/real_net_ma2c_control.csv')"
   ]
  },
  {
   "cell_type": "code",
   "execution_count": null,
   "metadata": {
    "pycharm": {
     "name": "#%%\n"
    }
   },
   "outputs": [],
   "source": [
    "df.groupby('episode').reward.agg('mean')"
   ]
  },
  {
   "cell_type": "code",
   "execution_count": null,
   "metadata": {
    "pycharm": {
     "name": "#%%\n"
    }
   },
   "outputs": [],
   "source": []
  },
  {
   "cell_type": "code",
   "execution_count": null,
   "metadata": {
    "pycharm": {
     "name": "#%%\n"
    }
   },
   "outputs": [],
   "source": []
  },
  {
   "cell_type": "code",
   "execution_count": null,
   "metadata": {
    "pycharm": {
     "name": "#%%\n"
    }
   },
   "outputs": [],
   "source": []
  },
  {
   "cell_type": "code",
   "execution_count": null,
   "metadata": {
    "pycharm": {
     "name": "#%%\n"
    }
   },
   "outputs": [],
   "source": []
  },
  {
   "cell_type": "code",
   "execution_count": null,
   "metadata": {
    "pycharm": {
     "name": "#%%\n"
    }
   },
   "outputs": [],
   "source": []
  },
  {
   "cell_type": "code",
   "execution_count": null,
   "metadata": {
    "pycharm": {
     "name": "#%%\n"
    }
   },
   "outputs": [],
   "source": []
  },
  {
   "cell_type": "code",
   "execution_count": null,
   "metadata": {
    "pycharm": {
     "name": "#%%\n"
    }
   },
   "outputs": [],
   "source": []
  },
  {
   "cell_type": "code",
   "execution_count": null,
   "metadata": {
    "pycharm": {
     "name": "#%%\n"
    }
   },
   "outputs": [],
   "source": []
  },
  {
   "cell_type": "code",
   "execution_count": null,
   "metadata": {
    "pycharm": {
     "name": "#%%\n"
    }
   },
   "outputs": [],
   "source": []
  },
  {
   "cell_type": "code",
   "execution_count": null,
   "metadata": {
    "pycharm": {
     "name": "#%%\n"
    }
   },
   "outputs": [],
   "source": []
  },
  {
   "cell_type": "code",
   "execution_count": null,
   "metadata": {
    "pycharm": {
     "name": "#%%\n"
    }
   },
   "outputs": [],
   "source": []
  },
  {
   "cell_type": "code",
   "execution_count": null,
   "metadata": {
    "pycharm": {
     "name": "#%%\n"
    }
   },
   "outputs": [],
   "source": []
  },
  {
   "cell_type": "code",
   "execution_count": null,
   "metadata": {
    "pycharm": {
     "name": "#%%\n"
    }
   },
   "outputs": [],
   "source": []
  },
  {
   "cell_type": "code",
   "execution_count": null,
   "metadata": {
    "pycharm": {
     "name": "#%%\n"
    }
   },
   "outputs": [],
   "source": []
  },
  {
   "cell_type": "code",
   "execution_count": null,
   "metadata": {
    "pycharm": {
     "name": "#%%\n"
    }
   },
   "outputs": [],
   "source": []
  },
  {
   "cell_type": "code",
   "execution_count": null,
   "metadata": {
    "pycharm": {
     "name": "#%%\n"
    }
   },
   "outputs": [],
   "source": []
  },
  {
   "cell_type": "code",
   "execution_count": null,
   "metadata": {
    "pycharm": {
     "name": "#%%\n"
    }
   },
   "outputs": [],
   "source": []
  },
  {
   "cell_type": "code",
   "execution_count": null,
   "metadata": {
    "pycharm": {
     "name": "#%%\n"
    }
   },
   "outputs": [],
   "source": []
  },
  {
   "cell_type": "code",
   "execution_count": null,
   "metadata": {
    "pycharm": {
     "name": "#%%\n"
    }
   },
   "outputs": [],
   "source": []
  },
  {
   "cell_type": "code",
   "execution_count": null,
   "metadata": {
    "pycharm": {
     "name": "#%%\n"
    }
   },
   "outputs": [],
   "source": []
  },
  {
   "cell_type": "code",
   "execution_count": null,
   "metadata": {
    "pycharm": {
     "name": "#%%\n"
    }
   },
   "outputs": [],
   "source": []
  },
  {
   "cell_type": "code",
   "execution_count": null,
   "metadata": {
    "pycharm": {
     "name": "#%%\n"
    }
   },
   "outputs": [],
   "source": []
  }
 ],
 "metadata": {
  "kernelspec": {
   "display_name": "Python 3 (ipykernel)",
   "language": "python",
   "name": "python3"
  },
  "language_info": {
   "codemirror_mode": {
    "name": "ipython",
    "version": 3
   },
   "file_extension": ".py",
   "mimetype": "text/x-python",
   "name": "python",
   "nbconvert_exporter": "python",
   "pygments_lexer": "ipython3",
   "version": "3.9.7"
  }
 },
 "nbformat": 4,
 "nbformat_minor": 2
}